{
 "cells": [
  {
   "cell_type": "markdown",
   "metadata": {},
   "source": [
    "#                     LINEAR REGRESSION"
   ]
  },
  {
   "cell_type": "markdown",
   "metadata": {},
   "source": [
    "This is a cars dataset having 156 observation and 16 different variables. You have to create a linear regression model using the provided predictor variables for the prediction of sales value of cars."
   ]
  },
  {
   "cell_type": "markdown",
   "metadata": {},
   "source": [
    "### Import the dataset"
   ]
  },
  {
   "cell_type": "code",
   "execution_count": 1,
   "metadata": {},
   "outputs": [
    {
     "data": {
      "text/html": [
       "<div>\n",
       "<style scoped>\n",
       "    .dataframe tbody tr th:only-of-type {\n",
       "        vertical-align: middle;\n",
       "    }\n",
       "\n",
       "    .dataframe tbody tr th {\n",
       "        vertical-align: top;\n",
       "    }\n",
       "\n",
       "    .dataframe thead th {\n",
       "        text-align: right;\n",
       "    }\n",
       "</style>\n",
       "<table border=\"1\" class=\"dataframe\">\n",
       "  <thead>\n",
       "    <tr style=\"text-align: right;\">\n",
       "      <th></th>\n",
       "      <th>Manufacturer</th>\n",
       "      <th>Model</th>\n",
       "      <th>Sales_in_thousands</th>\n",
       "      <th>_year_resale_value</th>\n",
       "      <th>Vehicle_type</th>\n",
       "      <th>Price_in_thousands</th>\n",
       "      <th>Engine_size</th>\n",
       "      <th>Horsepower</th>\n",
       "      <th>Wheelbase</th>\n",
       "      <th>Width</th>\n",
       "      <th>Length</th>\n",
       "      <th>Curb_weight</th>\n",
       "      <th>Fuel_capacity</th>\n",
       "      <th>Fuel_efficiency</th>\n",
       "      <th>Latest_Launch</th>\n",
       "      <th>Power_perf_factor</th>\n",
       "    </tr>\n",
       "  </thead>\n",
       "  <tbody>\n",
       "    <tr>\n",
       "      <th>0</th>\n",
       "      <td>Acura</td>\n",
       "      <td>Integra</td>\n",
       "      <td>16.919</td>\n",
       "      <td>16.360</td>\n",
       "      <td>Passenger</td>\n",
       "      <td>21.50</td>\n",
       "      <td>1.8</td>\n",
       "      <td>140</td>\n",
       "      <td>101.2</td>\n",
       "      <td>67.3</td>\n",
       "      <td>172.4</td>\n",
       "      <td>2.639</td>\n",
       "      <td>13.2</td>\n",
       "      <td>28</td>\n",
       "      <td>02-02-2012</td>\n",
       "      <td>58.280150</td>\n",
       "    </tr>\n",
       "    <tr>\n",
       "      <th>1</th>\n",
       "      <td>Acura</td>\n",
       "      <td>TL</td>\n",
       "      <td>39.384</td>\n",
       "      <td>19.875</td>\n",
       "      <td>Passenger</td>\n",
       "      <td>28.40</td>\n",
       "      <td>3.2</td>\n",
       "      <td>225</td>\n",
       "      <td>108.1</td>\n",
       "      <td>70.3</td>\n",
       "      <td>192.9</td>\n",
       "      <td>3.517</td>\n",
       "      <td>17.2</td>\n",
       "      <td>25</td>\n",
       "      <td>06-03-2011</td>\n",
       "      <td>91.370778</td>\n",
       "    </tr>\n",
       "    <tr>\n",
       "      <th>2</th>\n",
       "      <td>Acura</td>\n",
       "      <td>CL</td>\n",
       "      <td>14.114</td>\n",
       "      <td>18.225</td>\n",
       "      <td>Passenger</td>\n",
       "      <td>29.00</td>\n",
       "      <td>3.2</td>\n",
       "      <td>225</td>\n",
       "      <td>106.9</td>\n",
       "      <td>70.6</td>\n",
       "      <td>192.0</td>\n",
       "      <td>3.470</td>\n",
       "      <td>17.2</td>\n",
       "      <td>26</td>\n",
       "      <td>01-04-2012</td>\n",
       "      <td>90.345000</td>\n",
       "    </tr>\n",
       "    <tr>\n",
       "      <th>3</th>\n",
       "      <td>Acura</td>\n",
       "      <td>RL</td>\n",
       "      <td>8.588</td>\n",
       "      <td>29.725</td>\n",
       "      <td>Passenger</td>\n",
       "      <td>42.00</td>\n",
       "      <td>3.5</td>\n",
       "      <td>210</td>\n",
       "      <td>114.6</td>\n",
       "      <td>71.4</td>\n",
       "      <td>196.6</td>\n",
       "      <td>3.850</td>\n",
       "      <td>18.0</td>\n",
       "      <td>22</td>\n",
       "      <td>03-10-2011</td>\n",
       "      <td>91.389779</td>\n",
       "    </tr>\n",
       "    <tr>\n",
       "      <th>4</th>\n",
       "      <td>Audi</td>\n",
       "      <td>A4</td>\n",
       "      <td>20.397</td>\n",
       "      <td>22.255</td>\n",
       "      <td>Passenger</td>\n",
       "      <td>23.99</td>\n",
       "      <td>1.8</td>\n",
       "      <td>150</td>\n",
       "      <td>102.6</td>\n",
       "      <td>68.2</td>\n",
       "      <td>178.0</td>\n",
       "      <td>2.998</td>\n",
       "      <td>16.4</td>\n",
       "      <td>27</td>\n",
       "      <td>10-08-2011</td>\n",
       "      <td>62.777639</td>\n",
       "    </tr>\n",
       "  </tbody>\n",
       "</table>\n",
       "</div>"
      ],
      "text/plain": [
       "  Manufacturer    Model  Sales_in_thousands  _year_resale_value Vehicle_type  \\\n",
       "0        Acura  Integra              16.919              16.360    Passenger   \n",
       "1        Acura       TL              39.384              19.875    Passenger   \n",
       "2        Acura       CL              14.114              18.225    Passenger   \n",
       "3        Acura       RL               8.588              29.725    Passenger   \n",
       "4         Audi       A4              20.397              22.255    Passenger   \n",
       "\n",
       "   Price_in_thousands  Engine_size  Horsepower  Wheelbase  Width  Length  \\\n",
       "0               21.50          1.8         140      101.2   67.3   172.4   \n",
       "1               28.40          3.2         225      108.1   70.3   192.9   \n",
       "2               29.00          3.2         225      106.9   70.6   192.0   \n",
       "3               42.00          3.5         210      114.6   71.4   196.6   \n",
       "4               23.99          1.8         150      102.6   68.2   178.0   \n",
       "\n",
       "   Curb_weight  Fuel_capacity  Fuel_efficiency Latest_Launch  \\\n",
       "0        2.639           13.2               28    02-02-2012   \n",
       "1        3.517           17.2               25    06-03-2011   \n",
       "2        3.470           17.2               26    01-04-2012   \n",
       "3        3.850           18.0               22    03-10-2011   \n",
       "4        2.998           16.4               27    10-08-2011   \n",
       "\n",
       "   Power_perf_factor  \n",
       "0          58.280150  \n",
       "1          91.370778  \n",
       "2          90.345000  \n",
       "3          91.389779  \n",
       "4          62.777639  "
      ]
     },
     "execution_count": 1,
     "metadata": {},
     "output_type": "execute_result"
    }
   ],
   "source": [
    "import pandas as pd\n",
    "\n",
    "car = pd.read_csv(\"C:\\\\Users\\\\Neha\\\\Desktop\\\\DataSet\\\\Car_Data.csv\")\n",
    "car.head()"
   ]
  },
  {
   "cell_type": "markdown",
   "metadata": {},
   "source": [
    "### Check the shape of the dataset"
   ]
  },
  {
   "cell_type": "code",
   "execution_count": 2,
   "metadata": {},
   "outputs": [
    {
     "data": {
      "text/plain": [
       "(156, 16)"
      ]
     },
     "execution_count": 2,
     "metadata": {},
     "output_type": "execute_result"
    }
   ],
   "source": [
    "car.shape"
   ]
  },
  {
   "cell_type": "markdown",
   "metadata": {},
   "source": [
    "### Check the information of the dataset"
   ]
  },
  {
   "cell_type": "code",
   "execution_count": 3,
   "metadata": {},
   "outputs": [
    {
     "name": "stdout",
     "output_type": "stream",
     "text": [
      "<class 'pandas.core.frame.DataFrame'>\n",
      "RangeIndex: 156 entries, 0 to 155\n",
      "Data columns (total 16 columns):\n",
      " #   Column              Non-Null Count  Dtype  \n",
      "---  ------              --------------  -----  \n",
      " 0   Manufacturer        156 non-null    object \n",
      " 1   Model               156 non-null    object \n",
      " 2   Sales_in_thousands  151 non-null    float64\n",
      " 3   _year_resale_value  156 non-null    float64\n",
      " 4   Vehicle_type        156 non-null    object \n",
      " 5   Price_in_thousands  156 non-null    float64\n",
      " 6   Engine_size         156 non-null    float64\n",
      " 7   Horsepower          156 non-null    int64  \n",
      " 8   Wheelbase           156 non-null    float64\n",
      " 9   Width               156 non-null    float64\n",
      " 10  Length              156 non-null    float64\n",
      " 11  Curb_weight         156 non-null    float64\n",
      " 12  Fuel_capacity       156 non-null    float64\n",
      " 13  Fuel_efficiency     156 non-null    int64  \n",
      " 14  Latest_Launch       156 non-null    object \n",
      " 15  Power_perf_factor   156 non-null    float64\n",
      "dtypes: float64(10), int64(2), object(4)\n",
      "memory usage: 19.6+ KB\n"
     ]
    }
   ],
   "source": [
    "car.info()"
   ]
  },
  {
   "cell_type": "markdown",
   "metadata": {},
   "source": [
    "### Check the descriptive stats of the dataset"
   ]
  },
  {
   "cell_type": "code",
   "execution_count": 4,
   "metadata": {},
   "outputs": [
    {
     "data": {
      "text/html": [
       "<div>\n",
       "<style scoped>\n",
       "    .dataframe tbody tr th:only-of-type {\n",
       "        vertical-align: middle;\n",
       "    }\n",
       "\n",
       "    .dataframe tbody tr th {\n",
       "        vertical-align: top;\n",
       "    }\n",
       "\n",
       "    .dataframe thead th {\n",
       "        text-align: right;\n",
       "    }\n",
       "</style>\n",
       "<table border=\"1\" class=\"dataframe\">\n",
       "  <thead>\n",
       "    <tr style=\"text-align: right;\">\n",
       "      <th></th>\n",
       "      <th>Sales_in_thousands</th>\n",
       "      <th>_year_resale_value</th>\n",
       "      <th>Price_in_thousands</th>\n",
       "      <th>Engine_size</th>\n",
       "      <th>Horsepower</th>\n",
       "      <th>Wheelbase</th>\n",
       "      <th>Width</th>\n",
       "      <th>Length</th>\n",
       "      <th>Curb_weight</th>\n",
       "      <th>Fuel_capacity</th>\n",
       "      <th>Fuel_efficiency</th>\n",
       "      <th>Power_perf_factor</th>\n",
       "    </tr>\n",
       "  </thead>\n",
       "  <tbody>\n",
       "    <tr>\n",
       "      <th>count</th>\n",
       "      <td>151.000000</td>\n",
       "      <td>156.000000</td>\n",
       "      <td>156.000000</td>\n",
       "      <td>156.000000</td>\n",
       "      <td>156.000000</td>\n",
       "      <td>156.000000</td>\n",
       "      <td>156.000000</td>\n",
       "      <td>156.000000</td>\n",
       "      <td>156.000000</td>\n",
       "      <td>156.000000</td>\n",
       "      <td>156.000000</td>\n",
       "      <td>156.000000</td>\n",
       "    </tr>\n",
       "    <tr>\n",
       "      <th>mean</th>\n",
       "      <td>52.051742</td>\n",
       "      <td>18.063571</td>\n",
       "      <td>27.401071</td>\n",
       "      <td>3.060897</td>\n",
       "      <td>185.948718</td>\n",
       "      <td>107.487179</td>\n",
       "      <td>71.150000</td>\n",
       "      <td>187.343590</td>\n",
       "      <td>3.380462</td>\n",
       "      <td>17.951923</td>\n",
       "      <td>23.833333</td>\n",
       "      <td>77.128857</td>\n",
       "    </tr>\n",
       "    <tr>\n",
       "      <th>std</th>\n",
       "      <td>68.907116</td>\n",
       "      <td>10.076941</td>\n",
       "      <td>14.305863</td>\n",
       "      <td>1.044653</td>\n",
       "      <td>56.700321</td>\n",
       "      <td>7.641303</td>\n",
       "      <td>3.451872</td>\n",
       "      <td>13.431754</td>\n",
       "      <td>0.629200</td>\n",
       "      <td>3.887921</td>\n",
       "      <td>4.256052</td>\n",
       "      <td>25.084045</td>\n",
       "    </tr>\n",
       "    <tr>\n",
       "      <th>min</th>\n",
       "      <td>0.110000</td>\n",
       "      <td>5.160000</td>\n",
       "      <td>9.235000</td>\n",
       "      <td>1.000000</td>\n",
       "      <td>55.000000</td>\n",
       "      <td>92.600000</td>\n",
       "      <td>62.600000</td>\n",
       "      <td>149.400000</td>\n",
       "      <td>1.895000</td>\n",
       "      <td>10.300000</td>\n",
       "      <td>15.000000</td>\n",
       "      <td>23.276272</td>\n",
       "    </tr>\n",
       "    <tr>\n",
       "      <th>25%</th>\n",
       "      <td>13.630000</td>\n",
       "      <td>12.527500</td>\n",
       "      <td>18.081250</td>\n",
       "      <td>2.300000</td>\n",
       "      <td>149.500000</td>\n",
       "      <td>103.000000</td>\n",
       "      <td>68.400000</td>\n",
       "      <td>177.575000</td>\n",
       "      <td>2.973000</td>\n",
       "      <td>15.800000</td>\n",
       "      <td>21.000000</td>\n",
       "      <td>60.567577</td>\n",
       "    </tr>\n",
       "    <tr>\n",
       "      <th>50%</th>\n",
       "      <td>27.609000</td>\n",
       "      <td>17.617500</td>\n",
       "      <td>23.099500</td>\n",
       "      <td>3.000000</td>\n",
       "      <td>177.500000</td>\n",
       "      <td>107.000000</td>\n",
       "      <td>70.550000</td>\n",
       "      <td>187.900000</td>\n",
       "      <td>3.355000</td>\n",
       "      <td>17.200000</td>\n",
       "      <td>24.000000</td>\n",
       "      <td>72.160636</td>\n",
       "    </tr>\n",
       "    <tr>\n",
       "      <th>75%</th>\n",
       "      <td>65.905500</td>\n",
       "      <td>18.089731</td>\n",
       "      <td>31.938750</td>\n",
       "      <td>3.575000</td>\n",
       "      <td>215.000000</td>\n",
       "      <td>112.200000</td>\n",
       "      <td>73.425000</td>\n",
       "      <td>196.125000</td>\n",
       "      <td>3.788750</td>\n",
       "      <td>19.575000</td>\n",
       "      <td>26.000000</td>\n",
       "      <td>89.623790</td>\n",
       "    </tr>\n",
       "    <tr>\n",
       "      <th>max</th>\n",
       "      <td>540.561000</td>\n",
       "      <td>67.550000</td>\n",
       "      <td>85.500000</td>\n",
       "      <td>8.000000</td>\n",
       "      <td>450.000000</td>\n",
       "      <td>138.700000</td>\n",
       "      <td>79.900000</td>\n",
       "      <td>224.500000</td>\n",
       "      <td>5.572000</td>\n",
       "      <td>32.000000</td>\n",
       "      <td>45.000000</td>\n",
       "      <td>188.144323</td>\n",
       "    </tr>\n",
       "  </tbody>\n",
       "</table>\n",
       "</div>"
      ],
      "text/plain": [
       "       Sales_in_thousands  _year_resale_value  Price_in_thousands  \\\n",
       "count          151.000000          156.000000          156.000000   \n",
       "mean            52.051742           18.063571           27.401071   \n",
       "std             68.907116           10.076941           14.305863   \n",
       "min              0.110000            5.160000            9.235000   \n",
       "25%             13.630000           12.527500           18.081250   \n",
       "50%             27.609000           17.617500           23.099500   \n",
       "75%             65.905500           18.089731           31.938750   \n",
       "max            540.561000           67.550000           85.500000   \n",
       "\n",
       "       Engine_size  Horsepower   Wheelbase       Width      Length  \\\n",
       "count   156.000000  156.000000  156.000000  156.000000  156.000000   \n",
       "mean      3.060897  185.948718  107.487179   71.150000  187.343590   \n",
       "std       1.044653   56.700321    7.641303    3.451872   13.431754   \n",
       "min       1.000000   55.000000   92.600000   62.600000  149.400000   \n",
       "25%       2.300000  149.500000  103.000000   68.400000  177.575000   \n",
       "50%       3.000000  177.500000  107.000000   70.550000  187.900000   \n",
       "75%       3.575000  215.000000  112.200000   73.425000  196.125000   \n",
       "max       8.000000  450.000000  138.700000   79.900000  224.500000   \n",
       "\n",
       "       Curb_weight  Fuel_capacity  Fuel_efficiency  Power_perf_factor  \n",
       "count   156.000000     156.000000       156.000000         156.000000  \n",
       "mean      3.380462      17.951923        23.833333          77.128857  \n",
       "std       0.629200       3.887921         4.256052          25.084045  \n",
       "min       1.895000      10.300000        15.000000          23.276272  \n",
       "25%       2.973000      15.800000        21.000000          60.567577  \n",
       "50%       3.355000      17.200000        24.000000          72.160636  \n",
       "75%       3.788750      19.575000        26.000000          89.623790  \n",
       "max       5.572000      32.000000        45.000000         188.144323  "
      ]
     },
     "execution_count": 4,
     "metadata": {},
     "output_type": "execute_result"
    }
   ],
   "source": [
    "car.describe()"
   ]
  },
  {
   "cell_type": "markdown",
   "metadata": {},
   "source": [
    "### Code to understand the total count and percentage of missing values."
   ]
  },
  {
   "cell_type": "code",
   "execution_count": 4,
   "metadata": {},
   "outputs": [
    {
     "data": {
      "text/plain": [
       "Manufacturer          0\n",
       "Model                 0\n",
       "Sales_in_thousands    5\n",
       "_year_resale_value    0\n",
       "Vehicle_type          0\n",
       "Price_in_thousands    0\n",
       "Engine_size           0\n",
       "Horsepower            0\n",
       "Wheelbase             0\n",
       "Width                 0\n",
       "Length                0\n",
       "Curb_weight           0\n",
       "Fuel_capacity         0\n",
       "Fuel_efficiency       0\n",
       "Latest_Launch         0\n",
       "Power_perf_factor     0\n",
       "dtype: int64"
      ]
     },
     "execution_count": 4,
     "metadata": {},
     "output_type": "execute_result"
    }
   ],
   "source": [
    " car.isnull().sum()"
   ]
  },
  {
   "cell_type": "code",
   "execution_count": 5,
   "metadata": {},
   "outputs": [
    {
     "name": "stdout",
     "output_type": "stream",
     "text": [
      "                    Total   Percent\n",
      "Sales_in_thousands      5  0.032051\n",
      "Power_perf_factor       0  0.000000\n",
      "Latest_Launch           0  0.000000\n",
      "Fuel_efficiency         0  0.000000\n",
      "Fuel_capacity           0  0.000000\n",
      "Curb_weight             0  0.000000\n",
      "Length                  0  0.000000\n",
      "Width                   0  0.000000\n",
      "Wheelbase               0  0.000000\n",
      "Horsepower              0  0.000000\n",
      "Engine_size             0  0.000000\n",
      "Price_in_thousands      0  0.000000\n",
      "Vehicle_type            0  0.000000\n",
      "_year_resale_value      0  0.000000\n",
      "Model                   0  0.000000\n",
      "Manufacturer            0  0.000000\n"
     ]
    }
   ],
   "source": [
    "total = car.isnull().sum().sort_values(ascending=False)\n",
    "percent = (car.isnull().sum()/car.isnull().count()).sort_values(ascending=False)\n",
    "missing_data = pd.concat([total, percent], axis=1, keys=['Total', 'Percent'])\n",
    "missing_data.head(20)\n",
    "miss = print(missing_data)"
   ]
  },
  {
   "cell_type": "markdown",
   "metadata": {},
   "source": [
    "### Impute the missing value using \"median\" groupby Manufacturer.\n"
   ]
  },
  {
   "cell_type": "code",
   "execution_count": 6,
   "metadata": {},
   "outputs": [
    {
     "name": "stdout",
     "output_type": "stream",
     "text": [
      "Manufacturer          0\n",
      "Model                 0\n",
      "Sales_in_thousands    0\n",
      "_year_resale_value    0\n",
      "Vehicle_type          0\n",
      "Price_in_thousands    0\n",
      "Engine_size           0\n",
      "Horsepower            0\n",
      "Wheelbase             0\n",
      "Width                 0\n",
      "Length                0\n",
      "Curb_weight           0\n",
      "Fuel_capacity         0\n",
      "Fuel_efficiency       0\n",
      "Latest_Launch         0\n",
      "Power_perf_factor     0\n",
      "dtype: int64\n"
     ]
    }
   ],
   "source": [
    "car[\"Sales_in_thousands\"].fillna(car.groupby(\"Manufacturer\")[\"Sales_in_thousands\"].transform(\"median\"), inplace=True)\n",
    "print (car.isnull().sum())"
   ]
  },
  {
   "cell_type": "markdown",
   "metadata": {},
   "source": [
    "### Create a dummy variable for \"Vehicle_type\" and drop the original variable."
   ]
  },
  {
   "cell_type": "code",
   "execution_count": 8,
   "metadata": {},
   "outputs": [
    {
     "name": "stdout",
     "output_type": "stream",
     "text": [
      "    Manufacturer    Model  Sales_in_thousands  _year_resale_value  \\\n",
      "0          Acura  Integra              16.919           16.360000   \n",
      "1          Acura       TL              39.384           19.875000   \n",
      "2          Acura       CL              14.114           18.225000   \n",
      "3          Acura       RL               8.588           29.725000   \n",
      "4           Audi       A4              20.397           22.255000   \n",
      "..           ...      ...                 ...                 ...   \n",
      "151        Volvo      V40               3.545           18.072975   \n",
      "152        Volvo      S70              15.245           18.072975   \n",
      "153        Volvo      V70              17.531           18.072975   \n",
      "154        Volvo      C70               3.493           18.072975   \n",
      "155        Volvo      S80              18.969           18.072975   \n",
      "\n",
      "     Price_in_thousands  Engine_size  Horsepower  Wheelbase  Width  Length  \\\n",
      "0                 21.50          1.8         140      101.2   67.3   172.4   \n",
      "1                 28.40          3.2         225      108.1   70.3   192.9   \n",
      "2                 29.00          3.2         225      106.9   70.6   192.0   \n",
      "3                 42.00          3.5         210      114.6   71.4   196.6   \n",
      "4                 23.99          1.8         150      102.6   68.2   178.0   \n",
      "..                  ...          ...         ...        ...    ...     ...   \n",
      "151               24.40          1.9         160      100.5   67.6   176.6   \n",
      "152               27.50          2.4         168      104.9   69.3   185.9   \n",
      "153               28.80          2.4         168      104.9   69.3   186.2   \n",
      "154               45.50          2.3         236      104.9   71.5   185.7   \n",
      "155               36.00          2.9         201      109.9   72.1   189.8   \n",
      "\n",
      "     Curb_weight  Fuel_capacity  Fuel_efficiency Latest_Launch  \\\n",
      "0          2.639           13.2               28    02-02-2012   \n",
      "1          3.517           17.2               25    06-03-2011   \n",
      "2          3.470           17.2               26    01-04-2012   \n",
      "3          3.850           18.0               22    03-10-2011   \n",
      "4          2.998           16.4               27    10-08-2011   \n",
      "..           ...            ...              ...           ...   \n",
      "151        3.042           15.8               25     9/21/2011   \n",
      "152        3.208           17.9               25    11/24/2012   \n",
      "153        3.259           17.9               25     6/25/2011   \n",
      "154        3.601           18.5               23     4/26/2011   \n",
      "155        3.600           21.1               24    11/14/2011   \n",
      "\n",
      "     Power_perf_factor  Vehicle_type_Passenger  \n",
      "0            58.280150                       1  \n",
      "1            91.370778                       1  \n",
      "2            90.345000                       1  \n",
      "3            91.389779                       1  \n",
      "4            62.777639                       1  \n",
      "..                 ...                     ...  \n",
      "151          66.498812                       1  \n",
      "152          70.654495                       1  \n",
      "153          71.155978                       1  \n",
      "154         101.623357                       1  \n",
      "155          85.735655                       1  \n",
      "\n",
      "[156 rows x 16 columns]\n"
     ]
    }
   ],
   "source": [
    "car_dummy =pd.DataFrame()            # Creating an empty data frame\n",
    "\n",
    "dummies = pd.get_dummies(car, columns=['Vehicle_type'], drop_first=True)\n",
    "car_dummy = dummies\n",
    "print(car_dummy)\n"
   ]
  },
  {
   "cell_type": "markdown",
   "metadata": {},
   "source": [
    "### Dropping variables which will not help in prediction of sales.\n",
    "\n",
    "('Manufacturer', 'Model', 'Latest_Launch')"
   ]
  },
  {
   "cell_type": "code",
   "execution_count": 9,
   "metadata": {
    "scrolled": true
   },
   "outputs": [
    {
     "name": "stdout",
     "output_type": "stream",
     "text": [
      "     Sales_in_thousands  _year_resale_value  Price_in_thousands  Engine_size  \\\n",
      "0                16.919           16.360000               21.50          1.8   \n",
      "1                39.384           19.875000               28.40          3.2   \n",
      "2                14.114           18.225000               29.00          3.2   \n",
      "3                 8.588           29.725000               42.00          3.5   \n",
      "4                20.397           22.255000               23.99          1.8   \n",
      "..                  ...                 ...                 ...          ...   \n",
      "151               3.545           18.072975               24.40          1.9   \n",
      "152              15.245           18.072975               27.50          2.4   \n",
      "153              17.531           18.072975               28.80          2.4   \n",
      "154               3.493           18.072975               45.50          2.3   \n",
      "155              18.969           18.072975               36.00          2.9   \n",
      "\n",
      "     Horsepower  Wheelbase  Width  Length  Curb_weight  Fuel_capacity  \\\n",
      "0           140      101.2   67.3   172.4        2.639           13.2   \n",
      "1           225      108.1   70.3   192.9        3.517           17.2   \n",
      "2           225      106.9   70.6   192.0        3.470           17.2   \n",
      "3           210      114.6   71.4   196.6        3.850           18.0   \n",
      "4           150      102.6   68.2   178.0        2.998           16.4   \n",
      "..          ...        ...    ...     ...          ...            ...   \n",
      "151         160      100.5   67.6   176.6        3.042           15.8   \n",
      "152         168      104.9   69.3   185.9        3.208           17.9   \n",
      "153         168      104.9   69.3   186.2        3.259           17.9   \n",
      "154         236      104.9   71.5   185.7        3.601           18.5   \n",
      "155         201      109.9   72.1   189.8        3.600           21.1   \n",
      "\n",
      "     Fuel_efficiency  Power_perf_factor  Vehicle_type_Passenger  \n",
      "0                 28          58.280150                       1  \n",
      "1                 25          91.370778                       1  \n",
      "2                 26          90.345000                       1  \n",
      "3                 22          91.389779                       1  \n",
      "4                 27          62.777639                       1  \n",
      "..               ...                ...                     ...  \n",
      "151               25          66.498812                       1  \n",
      "152               25          70.654495                       1  \n",
      "153               25          71.155978                       1  \n",
      "154               23         101.623357                       1  \n",
      "155               24          85.735655                       1  \n",
      "\n",
      "[156 rows x 13 columns]\n"
     ]
    }
   ],
   "source": [
    "\n",
    "car_drop = car_dummy.drop(car_dummy[['Manufacturer', 'Model', 'Latest_Launch']], axis=1)\n",
    "\n",
    "print (car_drop)"
   ]
  },
  {
   "cell_type": "markdown",
   "metadata": {},
   "source": [
    "### Check for outliers using Box Plot"
   ]
  },
  {
   "cell_type": "code",
   "execution_count": 10,
   "metadata": {},
   "outputs": [
    {
     "data": {
      "text/plain": [
       "<matplotlib.axes._subplots.AxesSubplot at 0x20407538df0>"
      ]
     },
     "execution_count": 10,
     "metadata": {},
     "output_type": "execute_result"
    },
    {
     "data": {
      "image/png": "[encoded data removed]",
      "text/plain": [
       "<Figure size 432x288 with 1 Axes>"
      ]
     },
     "metadata": {
      "needs_background": "light"
     },
     "output_type": "display_data"
    }
   ],
   "source": [
    "import seaborn as sns\n",
    "sns.boxplot(data=car_drop, orient=\"h\", palette=\"Set2\")"
   ]
  },
  {
   "cell_type": "markdown",
   "metadata": {},
   "source": [
    "### Calculate the Inter quantile range and then drop off outliers for quantile values outside 5 to 95 range.¶"
   ]
  },
  {
   "cell_type": "code",
   "execution_count": 11,
   "metadata": {},
   "outputs": [
    {
     "name": "stdout",
     "output_type": "stream",
     "text": [
      "Inter quantile range is:\n",
      " Sales_in_thousands        231.362000\n",
      "_year_resale_value         30.925000\n",
      "Price_in_thousands         43.050000\n",
      "Engine_size                 2.975000\n",
      "Horsepower                185.500000\n",
      "Wheelbase                  23.375000\n",
      "Width                      11.700000\n",
      "Length                     44.825000\n",
      "Curb_weight                 1.965000\n",
      "Fuel_capacity              12.900000\n",
      "Fuel_efficiency            14.250000\n",
      "Power_perf_factor          78.847931\n",
      "Vehicle_type_Passenger      1.000000\n",
      "dtype: float64\n",
      "     Sales_in_thousands  _year_resale_value  Price_in_thousands  Engine_size  \\\n",
      "6                1.3800           39.000000              62.000          4.2   \n",
      "18              14.7850           18.072975              46.225          5.7   \n",
      "24              17.9470           36.225000              45.705          5.7   \n",
      "25              32.2990            9.125000              13.960          1.8   \n",
      "26              21.8550            5.160000               9.235          1.0   \n",
      "30              31.1480           13.725000              22.245          2.7   \n",
      "34              76.0340            7.750000              12.640          2.0   \n",
      "38               0.9160           58.470000              69.725          8.0   \n",
      "39             227.0610           15.060000              19.460          5.2   \n",
      "40              16.7670           15.510000              21.315          3.9   \n",
      "41              31.0380           13.425000              18.575          3.9   \n",
      "42             111.3130           11.260000              16.980          2.5   \n",
      "43             101.3230           18.072975              26.310          5.2   \n",
      "45             233.2325            7.425000              12.070          2.0   \n",
      "48             245.8150           10.055000              17.885          3.0   \n",
      "49             175.6700           18.072975              12.315          2.0   \n",
      "50             233.2325           14.210000              22.195          4.6   \n",
      "51             276.7470           16.640000              31.930          4.0   \n",
      "52             155.7870           13.175000              21.410          3.0   \n",
      "53             233.2325           23.575000              36.135          4.6   \n",
      "54             220.6500            7.850000              12.050          2.5   \n",
      "55             540.5610           15.075000              26.935          4.6   \n",
      "56             199.6850            9.850000              12.885          1.6   \n",
      "61              41.1840            5.860000               9.699          1.5   \n",
      "62              66.6920            7.825000              11.799          2.0   \n",
      "66              55.5570           13.475000              14.460          2.5   \n",
      "72               6.3750           40.375000              54.005          4.0   \n",
      "73               9.1260           18.072975              60.105          4.7   \n",
      "76              48.9110           21.725000              43.330          4.6   \n",
      "77              22.9250           18.072975              42.660          5.4   \n",
      "78              26.2320            8.325000              13.987          1.8   \n",
      "82               0.1100           20.940000              25.450          3.0   \n",
      "83              11.3370           19.125000              31.807          3.5   \n",
      "88              81.1740           14.875000              22.605          4.6   \n",
      "92              27.6020           41.450000              49.900          3.2   \n",
      "93              16.7740           50.375000              69.700          4.3   \n",
      "94               3.3110           58.600000              82.600          5.0   \n",
      "95               7.9980           18.072975              38.900          2.3   \n",
      "96               1.5260           18.072975              41.000          2.3   \n",
      "98               0.9540           18.072975              85.500          5.0   \n",
      "107              1.1120           11.240000              18.145          3.1   \n",
      "112             24.3610           15.240000              25.345          3.4   \n",
      "113             32.7340            7.750000              12.640          2.0   \n",
      "116              1.8720           18.072975              43.000          3.5   \n",
      "122             39.5720           18.072975              25.635          3.4   \n",
      "123              8.9820           41.250000              41.430          2.7   \n",
      "124              1.2800           60.625000              71.020          3.4   \n",
      "125              1.8660           67.550000              74.970          3.4   \n",
      "128             80.6200            9.200000              10.685          1.9   \n",
      "129             24.5460           10.590000              12.535          1.9   \n",
      "130              5.2230           10.790000              14.290          1.9   \n",
      "135            142.5350           10.025000              13.108          1.8   \n",
      "136            247.9940           13.245000              17.518          2.2   \n",
      "139             84.0870            9.575000              11.528          2.4   \n",
      "141             25.1060           13.325000              16.888          2.0   \n",
      "143              9.8350           34.080000              51.728          4.7   \n",
      "144              9.7610           11.425000              14.900          2.0   \n",
      "147              9.5690           16.575000              19.990          2.0   \n",
      "148              5.5960           13.760000              17.500          2.0   \n",
      "149             49.4630           18.072975              15.900          2.0   \n",
      "\n",
      "     Horsepower  Wheelbase  Width  Length  Curb_weight  Fuel_capacity  \\\n",
      "6           310      113.0   74.0   198.2        3.902           23.7   \n",
      "18          255      117.5   77.0   201.2        5.572           30.0   \n",
      "24          345      104.5   73.6   179.7        3.210           19.1   \n",
      "25          120       97.1   66.7   174.3        2.398           13.2   \n",
      "26           55       93.1   62.6   149.4        1.895           10.3   \n",
      "30          200      113.0   74.4   209.1        3.452           17.0   \n",
      "34          132      105.0   74.4   174.4        2.567           12.5   \n",
      "38          450       96.2   75.7   176.7        3.375           19.0   \n",
      "39          230      138.7   79.3   224.2        4.470           26.0   \n",
      "40          175      109.6   78.8   192.6        4.245           32.0   \n",
      "41          175      127.2   78.8   208.5        4.298           32.0   \n",
      "42          120      131.0   71.5   215.0        3.557           22.0   \n",
      "43          230      115.7   71.7   193.5        4.394           25.0   \n",
      "45          110       98.4   67.0   174.7        2.468           12.7   \n",
      "48          155      108.5   73.0   197.6        3.368           16.0   \n",
      "49          107      103.0   66.9   174.8        2.564           13.2   \n",
      "50          200      114.7   78.2   212.0        3.908           19.0   \n",
      "51          210      111.6   70.2   190.7        3.876           21.0   \n",
      "52          150      120.7   76.6   200.9        3.761           26.0   \n",
      "53          240      119.0   78.7   204.6        4.808           26.0   \n",
      "54          119      117.5   69.4   200.7        3.086           20.0   \n",
      "55          220      138.5   79.1   224.5        4.241           25.1   \n",
      "56          106      103.2   67.1   175.1        2.339           11.9   \n",
      "61           92       96.1   65.7   166.7        2.240           11.9   \n",
      "62          140      100.4   66.9   174.0        2.626           14.5   \n",
      "66          120       93.4   66.7   152.0        3.045           19.0   \n",
      "72          290      112.2   72.0   196.7        3.890           22.5   \n",
      "73          230      112.2   76.4   192.5        5.401           25.4   \n",
      "76          215      117.7   78.2   215.3        4.121           19.0   \n",
      "77          300      119.0   79.9   204.8        5.393           30.0   \n",
      "78          113       98.4   66.5   173.6        2.250           13.2   \n",
      "82          161       97.2   72.4   180.3        3.131           19.8   \n",
      "83          200      107.3   69.9   186.6        4.520           24.3   \n",
      "88          200      114.7   78.2   212.0        3.958           19.0   \n",
      "92          221      111.5   70.8   189.4        3.823           21.1   \n",
      "93          275      121.5   73.1   203.1        4.133           23.2   \n",
      "94          302       99.0   71.3   177.1        4.125           21.1   \n",
      "95          190       94.5   67.5   157.9        3.055           15.9   \n",
      "96          185       94.5   67.5   157.3        2.975           14.0   \n",
      "98          302      113.6   73.1   196.6        4.115           23.2   \n",
      "107         150      107.0   69.4   192.0        3.102           15.2   \n",
      "112         185      120.0   72.2   201.4        3.948           25.0   \n",
      "113         132      105.0   74.4   174.4        2.559           12.5   \n",
      "116         253      113.3   76.3   165.4        2.850           12.0   \n",
      "122         185      120.0   72.7   201.3        3.942           25.0   \n",
      "123         217       95.2   70.1   171.0        2.778           17.0   \n",
      "124         300       92.6   69.5   174.5        3.032           17.0   \n",
      "125         300       92.6   69.5   174.5        3.075           17.0   \n",
      "128         100      102.4   66.4   176.9        2.332           12.1   \n",
      "129         100      102.4   66.4   180.0        2.367           12.1   \n",
      "130         124      102.4   66.4   176.9        2.452           12.1   \n",
      "135         120       97.0   66.7   174.0        2.420           13.2   \n",
      "136         133      105.2   70.1   188.5        2.998           18.5   \n",
      "139         142      103.3   66.5   178.7        2.580           15.1   \n",
      "141         127       94.9   66.7   163.8        2.668           15.3   \n",
      "143         230      112.2   76.4   192.5        5.115           25.4   \n",
      "144         115       98.9   68.3   163.3        2.767           14.5   \n",
      "147         115       97.4   66.7   160.4        3.079           13.7   \n",
      "148         115       98.9   68.3   163.3        2.762           14.6   \n",
      "149         115       98.9   67.9   161.1        2.769           14.5   \n",
      "\n",
      "     Fuel_efficiency  Power_perf_factor  Vehicle_type_Passenger  \n",
      "6                 21         134.656858                       1  \n",
      "18                15         109.509117                       0  \n",
      "24                22         141.141150                       1  \n",
      "25                33          48.297636                       1  \n",
      "26                45          23.276272                       1  \n",
      "30                26          80.023782                       1  \n",
      "34                29          52.084899                       1  \n",
      "38                16         188.144323                       1  \n",
      "39                17          90.211700                       0  \n",
      "40                15          71.135292                       0  \n",
      "41                16          70.078322                       0  \n",
      "42                19          49.645002                       0  \n",
      "43                17          92.854125                       0  \n",
      "45                30          44.083709                       1  \n",
      "48                24          62.503740                       1  \n",
      "49                30          43.117132                       1  \n",
      "50                21          80.499537                       1  \n",
      "51                19          87.635496                       0  \n",
      "52                21          62.095048                       0  \n",
      "53                16         100.024802                       0  \n",
      "54                23          47.389531                       0  \n",
      "55                18          89.401935                       0  \n",
      "56                32          42.879097                       1  \n",
      "61                31          36.672284                       1  \n",
      "62                27          54.590045                       1  \n",
      "66                17          48.672898                       0  \n",
      "72                22         124.446716                       1  \n",
      "73                15         105.760458                       0  \n",
      "76                21          93.957917                       1  \n",
      "77                15         123.972047                       0  \n",
      "78                30          45.832181                       1  \n",
      "82                21          67.544155                       1  \n",
      "83                18          83.920815                       0  \n",
      "88                21          80.657696                       1  \n",
      "92                25          98.249737                       1  \n",
      "93                21         125.273876                       1  \n",
      "94                20         139.982294                       1  \n",
      "95                26          82.807362                       1  \n",
      "96                27          81.848969                       1  \n",
      "98                20         141.100985                       1  \n",
      "107               25          60.861612                       1  \n",
      "112               22          76.096570                       0  \n",
      "113               29          52.084899                       1  \n",
      "116               21         106.984456                       1  \n",
      "122               23          76.208440                       0  \n",
      "123               22          93.437331                       1  \n",
      "124               21         134.390975                       1  \n",
      "125               23         135.914710                       1  \n",
      "128               33          39.986425                       1  \n",
      "129               33          40.700072                       1  \n",
      "130               31          49.865774                       1  \n",
      "135               33          47.968972                       1  \n",
      "136               27          54.372420                       1  \n",
      "139               23          55.297117                       0  \n",
      "141               27          51.955109                       0  \n",
      "143               15         102.528984                       0  \n",
      "144               26          46.943877                       1  \n",
      "147               26          48.907372                       1  \n",
      "148               26          47.946841                       1  \n",
      "149               26          47.329632                       1  \n",
      "     Sales_in_thousands  _year_resale_value  Price_in_thousands  Engine_size  \\\n",
      "0                16.919           16.360000               21.50          1.8   \n",
      "1                39.384           19.875000               28.40          3.2   \n",
      "2                14.114           18.225000               29.00          3.2   \n",
      "3                 8.588           29.725000               42.00          3.5   \n",
      "4                20.397           22.255000               23.99          1.8   \n",
      "..                  ...                 ...                 ...          ...   \n",
      "151               3.545           18.072975               24.40          1.9   \n",
      "152              15.245           18.072975               27.50          2.4   \n",
      "153              17.531           18.072975               28.80          2.4   \n",
      "154               3.493           18.072975               45.50          2.3   \n",
      "155              18.969           18.072975               36.00          2.9   \n",
      "\n",
      "     Horsepower  Wheelbase  Width  Length  Curb_weight  Fuel_capacity  \\\n",
      "0           140      101.2   67.3   172.4        2.639           13.2   \n",
      "1           225      108.1   70.3   192.9        3.517           17.2   \n",
      "2           225      106.9   70.6   192.0        3.470           17.2   \n",
      "3           210      114.6   71.4   196.6        3.850           18.0   \n",
      "4           150      102.6   68.2   178.0        2.998           16.4   \n",
      "..          ...        ...    ...     ...          ...            ...   \n",
      "151         160      100.5   67.6   176.6        3.042           15.8   \n",
      "152         168      104.9   69.3   185.9        3.208           17.9   \n",
      "153         168      104.9   69.3   186.2        3.259           17.9   \n",
      "154         236      104.9   71.5   185.7        3.601           18.5   \n",
      "155         201      109.9   72.1   189.8        3.600           21.1   \n",
      "\n",
      "     Fuel_efficiency  Power_perf_factor  Vehicle_type_Passenger  \n",
      "0                 28          58.280150                       1  \n",
      "1                 25          91.370778                       1  \n",
      "2                 26          90.345000                       1  \n",
      "3                 22          91.389779                       1  \n",
      "4                 27          62.777639                       1  \n",
      "..               ...                ...                     ...  \n",
      "151               25          66.498812                       1  \n",
      "152               25          70.654495                       1  \n",
      "153               25          71.155978                       1  \n",
      "154               23         101.623357                       1  \n",
      "155               24          85.735655                       1  \n",
      "\n",
      "[96 rows x 13 columns]\n"
     ]
    }
   ],
   "source": [
    "import pandas as pd\n",
    "\n",
    "Q1 = car_drop.quantile(0.05)\n",
    "Q3 = car_drop.quantile(0.95)\n",
    "Q_diff = Q3 - Q1\n",
    "\n",
    "print(\"Inter quantile range is:\\n\", Q_diff)\n",
    "\n",
    "car_out = car_drop[~((car_drop < Q1)|(car_drop > Q3)).any(axis=1)]\n",
    "print(car_drop[((car_drop < Q1)|(car_drop > Q3)).any(axis=1)])\n",
    "\n",
    "car_dummy = car_out\n",
    "print (car_dummy)"
   ]
  },
  {
   "cell_type": "markdown",
   "metadata": {},
   "source": [
    "### Code to standardize the variable for model building (return value will be numpy.ndarray)."
   ]
  },
  {
   "cell_type": "code",
   "execution_count": 12,
   "metadata": {},
   "outputs": [
    {
     "name": "stdout",
     "output_type": "stream",
     "text": [
      "[ 0.5899825   0.35359816  0.35515073  1.01234914  0.17298443 -0.23940481\n",
      "  0.48064716  0.38358335 -0.09656879  0.3796632   0.91744169  0.51298918]\n"
     ]
    }
   ],
   "source": [
    "std = pd.DataFrame()\n",
    "car_modify = car_dummy.drop(car_dummy[['Sales_in_thousands']], axis=1)\n",
    "\n",
    "from sklearn.preprocessing import StandardScaler\n",
    "scaler = StandardScaler().fit(car_modify)\n",
    "st = scaler.transform(car_modify)\n",
    "\n",
    "std = st\n",
    "print(std[1])"
   ]
  },
  {
   "cell_type": "markdown",
   "metadata": {},
   "source": [
    "### Code to create a DataFrame from  the standardized value calculated above"
   ]
  },
  {
   "cell_type": "markdown",
   "metadata": {},
   "source": [
    "Since the standardized value is a numpy array, add the data to a dataframe with column header as mentioned below in the same order\n",
    "\n",
    "['_year_resale_value','Price_in_thousands','Engine_size','Horsepower','Wheelbase','Width','Length','Curb_weight','Fuel_capacity','Fuel_efficiency','Power_perf_factor','Vehicle_type_Passenger']\n"
   ]
  },
  {
   "cell_type": "code",
   "execution_count": 13,
   "metadata": {},
   "outputs": [
    {
     "data": {
      "text/html": [
       "<div>\n",
       "<style scoped>\n",
       "    .dataframe tbody tr th:only-of-type {\n",
       "        vertical-align: middle;\n",
       "    }\n",
       "\n",
       "    .dataframe tbody tr th {\n",
       "        vertical-align: top;\n",
       "    }\n",
       "\n",
       "    .dataframe thead th {\n",
       "        text-align: right;\n",
       "    }\n",
       "</style>\n",
       "<table border=\"1\" class=\"dataframe\">\n",
       "  <thead>\n",
       "    <tr style=\"text-align: right;\">\n",
       "      <th></th>\n",
       "      <th>_year_resale_value</th>\n",
       "      <th>Price_in_thousands</th>\n",
       "      <th>Engine_size</th>\n",
       "      <th>Horsepower</th>\n",
       "      <th>Wheelbase</th>\n",
       "      <th>Width</th>\n",
       "      <th>Length</th>\n",
       "      <th>Curb_weight</th>\n",
       "      <th>Fuel_capacity</th>\n",
       "      <th>Fuel_efficiency</th>\n",
       "      <th>Power_perf_factor</th>\n",
       "      <th>Vehicle_type_Passenger</th>\n",
       "    </tr>\n",
       "  </thead>\n",
       "  <tbody>\n",
       "    <tr>\n",
       "      <th>0</th>\n",
       "      <td>-0.094988</td>\n",
       "      <td>-0.519458</td>\n",
       "      <td>-1.569537</td>\n",
       "      <td>-1.161537</td>\n",
       "      <td>-1.485263</td>\n",
       "      <td>-1.410009</td>\n",
       "      <td>-1.798663</td>\n",
       "      <td>-1.856990</td>\n",
       "      <td>-2.191620</td>\n",
       "      <td>1.518653</td>\n",
       "      <td>-1.085259</td>\n",
       "      <td>0.512989</td>\n",
       "    </tr>\n",
       "    <tr>\n",
       "      <th>1</th>\n",
       "      <td>0.589983</td>\n",
       "      <td>0.353598</td>\n",
       "      <td>0.355151</td>\n",
       "      <td>1.012349</td>\n",
       "      <td>0.172984</td>\n",
       "      <td>-0.239405</td>\n",
       "      <td>0.480647</td>\n",
       "      <td>0.383583</td>\n",
       "      <td>-0.096569</td>\n",
       "      <td>0.379663</td>\n",
       "      <td>0.917442</td>\n",
       "      <td>0.512989</td>\n",
       "    </tr>\n",
       "    <tr>\n",
       "      <th>2</th>\n",
       "      <td>0.268446</td>\n",
       "      <td>0.429516</td>\n",
       "      <td>0.355151</td>\n",
       "      <td>1.012349</td>\n",
       "      <td>-0.115406</td>\n",
       "      <td>-0.122344</td>\n",
       "      <td>0.380580</td>\n",
       "      <td>0.263644</td>\n",
       "      <td>-0.096569</td>\n",
       "      <td>0.759326</td>\n",
       "      <td>0.855360</td>\n",
       "      <td>0.512989</td>\n",
       "    </tr>\n",
       "    <tr>\n",
       "      <th>3</th>\n",
       "      <td>2.509459</td>\n",
       "      <td>2.074404</td>\n",
       "      <td>0.767584</td>\n",
       "      <td>0.628722</td>\n",
       "      <td>1.735101</td>\n",
       "      <td>0.189817</td>\n",
       "      <td>0.892035</td>\n",
       "      <td>1.233368</td>\n",
       "      <td>0.322442</td>\n",
       "      <td>-0.759326</td>\n",
       "      <td>0.918592</td>\n",
       "      <td>0.512989</td>\n",
       "    </tr>\n",
       "    <tr>\n",
       "      <th>4</th>\n",
       "      <td>1.053775</td>\n",
       "      <td>-0.204398</td>\n",
       "      <td>-1.569537</td>\n",
       "      <td>-0.905786</td>\n",
       "      <td>-1.148807</td>\n",
       "      <td>-1.058828</td>\n",
       "      <td>-1.176022</td>\n",
       "      <td>-0.940856</td>\n",
       "      <td>-0.515579</td>\n",
       "      <td>1.138990</td>\n",
       "      <td>-0.813063</td>\n",
       "      <td>0.512989</td>\n",
       "    </tr>\n",
       "  </tbody>\n",
       "</table>\n",
       "</div>"
      ],
      "text/plain": [
       "   _year_resale_value  Price_in_thousands  Engine_size  Horsepower  Wheelbase  \\\n",
       "0           -0.094988           -0.519458    -1.569537   -1.161537  -1.485263   \n",
       "1            0.589983            0.353598     0.355151    1.012349   0.172984   \n",
       "2            0.268446            0.429516     0.355151    1.012349  -0.115406   \n",
       "3            2.509459            2.074404     0.767584    0.628722   1.735101   \n",
       "4            1.053775           -0.204398    -1.569537   -0.905786  -1.148807   \n",
       "\n",
       "      Width    Length  Curb_weight  Fuel_capacity  Fuel_efficiency  \\\n",
       "0 -1.410009 -1.798663    -1.856990      -2.191620         1.518653   \n",
       "1 -0.239405  0.480647     0.383583      -0.096569         0.379663   \n",
       "2 -0.122344  0.380580     0.263644      -0.096569         0.759326   \n",
       "3  0.189817  0.892035     1.233368       0.322442        -0.759326   \n",
       "4 -1.058828 -1.176022    -0.940856      -0.515579         1.138990   \n",
       "\n",
       "   Power_perf_factor  Vehicle_type_Passenger  \n",
       "0          -1.085259                0.512989  \n",
       "1           0.917442                0.512989  \n",
       "2           0.855360                0.512989  \n",
       "3           0.918592                0.512989  \n",
       "4          -0.813063                0.512989  "
      ]
     },
     "execution_count": 13,
     "metadata": {},
     "output_type": "execute_result"
    }
   ],
   "source": [
    "columns = ['_year_resale_value','Price_in_thousands','Engine_size','Horsepower','Wheelbase','Width','Length','Curb_weight','Fuel_capacity','Fuel_efficiency','Power_perf_factor','Vehicle_type_Passenger']\n",
    "\n",
    "cars= pd.DataFrame(std)\n",
    "cars.columns = columns\n",
    "cars.head()"
   ]
  },
  {
   "cell_type": "markdown",
   "metadata": {},
   "source": [
    "### Now since all variable may not be of use, please extract only the following variables for training. Preparing X (independent features) for the model building.\n",
    "\n",
    "['Price_in_thousands','Engine_size','Wheelbase','Fuel_efficiency','Vehicle_type_Passenger']"
   ]
  },
  {
   "cell_type": "code",
   "execution_count": 14,
   "metadata": {},
   "outputs": [
    {
     "name": "stdout",
     "output_type": "stream",
     "text": [
      "    Price_in_thousands  Engine_size  Wheelbase  Fuel_efficiency  \\\n",
      "0            -0.519458    -1.569537  -1.485263         1.518653   \n",
      "1             0.353598     0.355151   0.172984         0.379663   \n",
      "2             0.429516     0.355151  -0.115406         0.759326   \n",
      "3             2.074404     0.767584   1.735101        -0.759326   \n",
      "4            -0.204398    -1.569537  -1.148807         1.138990   \n",
      "..                 ...          ...        ...              ...   \n",
      "91           -0.152521    -1.432059  -1.653491         0.379663   \n",
      "92            0.239721    -0.744671  -0.596058         0.379663   \n",
      "93            0.404210    -0.744671  -0.596058         0.379663   \n",
      "94            2.517258    -0.882149  -0.596058        -0.379663   \n",
      "95            1.315225    -0.057282   0.605571         0.000000   \n",
      "\n",
      "    Vehicle_type_Passenger  \n",
      "0                 0.512989  \n",
      "1                 0.512989  \n",
      "2                 0.512989  \n",
      "3                 0.512989  \n",
      "4                 0.512989  \n",
      "..                     ...  \n",
      "91                0.512989  \n",
      "92                0.512989  \n",
      "93                0.512989  \n",
      "94                0.512989  \n",
      "95                0.512989  \n",
      "\n",
      "[96 rows x 5 columns]\n"
     ]
    }
   ],
   "source": [
    "X = pd.DataFrame()\n",
    "feature_cols = ['Price_in_thousands','Engine_size','Wheelbase','Fuel_efficiency','Vehicle_type_Passenger']                \n",
    "\n",
    "X = cars[feature_cols]\n",
    "\n",
    "print(X)"
   ]
  },
  {
   "cell_type": "markdown",
   "metadata": {},
   "source": [
    "### Check for the type and shape of X.\n"
   ]
  },
  {
   "cell_type": "code",
   "execution_count": 15,
   "metadata": {},
   "outputs": [
    {
     "name": "stdout",
     "output_type": "stream",
     "text": [
      "<class 'pandas.core.frame.DataFrame'>\n",
      "(96, 5)\n"
     ]
    }
   ],
   "source": [
    "print(type(X))\n",
    "print(X.shape)"
   ]
  },
  {
   "cell_type": "markdown",
   "metadata": {},
   "source": [
    "### Extract y (dependent variable) for model building.\n",
    "\n",
    "['Sales_in_thousands']"
   ]
  },
  {
   "cell_type": "code",
   "execution_count": 16,
   "metadata": {},
   "outputs": [
    {
     "name": "stdout",
     "output_type": "stream",
     "text": [
      "0    16.919\n",
      "1    39.384\n",
      "2    14.114\n",
      "3     8.588\n",
      "4    20.397\n",
      "Name: Sales_in_thousands, dtype: float64\n"
     ]
    }
   ],
   "source": [
    "y = pd.DataFrame()\n",
    "y = car_dummy['Sales_in_thousands']\n",
    "print(y.head())"
   ]
  },
  {
   "cell_type": "markdown",
   "metadata": {},
   "source": [
    "### Check for the type and shape of y."
   ]
  },
  {
   "cell_type": "code",
   "execution_count": 17,
   "metadata": {},
   "outputs": [
    {
     "name": "stdout",
     "output_type": "stream",
     "text": [
      "<class 'pandas.core.series.Series'>\n",
      "(96,)\n"
     ]
    }
   ],
   "source": [
    "print(type(y))\n",
    "print(y.shape)"
   ]
  },
  {
   "cell_type": "markdown",
   "metadata": {},
   "source": [
    "### Split the value of X and y into train and test datasets."
   ]
  },
  {
   "cell_type": "code",
   "execution_count": 18,
   "metadata": {},
   "outputs": [],
   "source": [
    "from  sklearn.model_selection import train_test_split\n",
    "def lr():\n",
    "    return train_test_split(X, y, test_size=0.30, random_state=1)\n",
    "X_train, X_test, y_train, y_test = lr()\n"
   ]
  },
  {
   "cell_type": "markdown",
   "metadata": {},
   "source": [
    "### Check the shape of X and y of train dataset."
   ]
  },
  {
   "cell_type": "code",
   "execution_count": 19,
   "metadata": {},
   "outputs": [
    {
     "name": "stdout",
     "output_type": "stream",
     "text": [
      "(67, 5)\n",
      "(67,)\n"
     ]
    }
   ],
   "source": [
    "print(X_train.shape)\n",
    "print(y_train.shape)"
   ]
  },
  {
   "cell_type": "markdown",
   "metadata": {},
   "source": [
    "### Check the shape of X and y of test dataset."
   ]
  },
  {
   "cell_type": "code",
   "execution_count": 20,
   "metadata": {},
   "outputs": [
    {
     "name": "stdout",
     "output_type": "stream",
     "text": [
      "(29, 5)\n",
      "(29,)\n"
     ]
    }
   ],
   "source": [
    "print(X_test.shape)\n",
    "print(y_test.shape)"
   ]
  },
  {
   "cell_type": "markdown",
   "metadata": {},
   "source": [
    "### Linear regression model using scikit-learn"
   ]
  },
  {
   "cell_type": "code",
   "execution_count": 21,
   "metadata": {},
   "outputs": [
    {
     "data": {
      "text/plain": [
       "LinearRegression()"
      ]
     },
     "execution_count": 21,
     "metadata": {},
     "output_type": "execute_result"
    }
   ],
   "source": [
    "from sklearn.linear_model import LinearRegression\n",
    "\n",
    "linreg = LinearRegression()\n",
    "linreg.fit(X_train, y_train)  \n"
   ]
  },
  {
   "cell_type": "markdown",
   "metadata": {},
   "source": [
    "### Interpret the Model Coefficients."
   ]
  },
  {
   "cell_type": "code",
   "execution_count": 22,
   "metadata": {},
   "outputs": [
    {
     "name": "stdout",
     "output_type": "stream",
     "text": [
      "Intercept: 43.87522524242046\n",
      "Coefficients: [-27.00575624  12.90661213   4.27975072   1.8546483    0.78389836]\n"
     ]
    }
   ],
   "source": [
    "print('Intercept:',linreg.intercept_)                                            \n",
    "print('Coefficients:',linreg.coef_)"
   ]
  },
  {
   "cell_type": "markdown",
   "metadata": {},
   "source": [
    "### Zip the features to pair the feature names with the coefficients."
   ]
  },
  {
   "cell_type": "code",
   "execution_count": 23,
   "metadata": {},
   "outputs": [
    {
     "name": "stdout",
     "output_type": "stream",
     "text": [
      "Intercept 43.87522524242046\n",
      "Price_in_thousands -27.005756243837833\n",
      "Engine_size 12.906612134218975\n",
      "Wheelbase 4.279750718763276\n",
      "Fuel_efficiency 1.8546482957829231\n",
      "Vehicle_type_Passenger 0.7838983631239438\n"
     ]
    }
   ],
   "source": [
    "\n",
    "feature_cols.insert(0,'Intercept')\n",
    "coef = linreg.coef_.tolist()\n",
    "coef.insert(0, linreg.intercept_)\n",
    "eq1 = zip(feature_cols, coef)\n",
    "for c1,c2 in eq1:\n",
    "    print(c1,c2)"
   ]
  },
  {
   "cell_type": "markdown",
   "metadata": {},
   "source": [
    "### Predict the train value using the built model."
   ]
  },
  {
   "cell_type": "code",
   "execution_count": 24,
   "metadata": {},
   "outputs": [
    {
     "data": {
      "text/html": [
       "<div>\n",
       "<style scoped>\n",
       "    .dataframe tbody tr th:only-of-type {\n",
       "        vertical-align: middle;\n",
       "    }\n",
       "\n",
       "    .dataframe tbody tr th {\n",
       "        vertical-align: top;\n",
       "    }\n",
       "\n",
       "    .dataframe thead th {\n",
       "        text-align: right;\n",
       "    }\n",
       "</style>\n",
       "<table border=\"1\" class=\"dataframe\">\n",
       "  <thead>\n",
       "    <tr style=\"text-align: right;\">\n",
       "      <th></th>\n",
       "      <th>Sales</th>\n",
       "    </tr>\n",
       "  </thead>\n",
       "  <tbody>\n",
       "    <tr>\n",
       "      <th>0</th>\n",
       "      <td>60.119340</td>\n",
       "    </tr>\n",
       "    <tr>\n",
       "      <th>1</th>\n",
       "      <td>54.562361</td>\n",
       "    </tr>\n",
       "    <tr>\n",
       "      <th>2</th>\n",
       "      <td>39.003508</td>\n",
       "    </tr>\n",
       "    <tr>\n",
       "      <th>3</th>\n",
       "      <td>-6.887229</td>\n",
       "    </tr>\n",
       "    <tr>\n",
       "      <th>4</th>\n",
       "      <td>61.762201</td>\n",
       "    </tr>\n",
       "  </tbody>\n",
       "</table>\n",
       "</div>"
      ],
      "text/plain": [
       "       Sales\n",
       "0  60.119340\n",
       "1  54.562361\n",
       "2  39.003508\n",
       "3  -6.887229\n",
       "4  61.762201"
      ]
     },
     "execution_count": 24,
     "metadata": {},
     "output_type": "execute_result"
    }
   ],
   "source": [
    "y_pred_train = linreg.predict(X_train)\n",
    "pred= pd.DataFrame(y_pred_train)\n",
    "   \n",
    "pred.columns = ['Sales']\n",
    "pred.head()\n"
   ]
  },
  {
   "cell_type": "markdown",
   "metadata": {},
   "source": [
    "### Predict the test value using the built model"
   ]
  },
  {
   "cell_type": "code",
   "execution_count": 25,
   "metadata": {},
   "outputs": [
    {
     "data": {
      "text/html": [
       "<div>\n",
       "<style scoped>\n",
       "    .dataframe tbody tr th:only-of-type {\n",
       "        vertical-align: middle;\n",
       "    }\n",
       "\n",
       "    .dataframe tbody tr th {\n",
       "        vertical-align: top;\n",
       "    }\n",
       "\n",
       "    .dataframe thead th {\n",
       "        text-align: right;\n",
       "    }\n",
       "</style>\n",
       "<table border=\"1\" class=\"dataframe\">\n",
       "  <thead>\n",
       "    <tr style=\"text-align: right;\">\n",
       "      <th></th>\n",
       "      <th>Sales</th>\n",
       "    </tr>\n",
       "  </thead>\n",
       "  <tbody>\n",
       "    <tr>\n",
       "      <th>0</th>\n",
       "      <td>-8.231543</td>\n",
       "    </tr>\n",
       "    <tr>\n",
       "      <th>1</th>\n",
       "      <td>59.464963</td>\n",
       "    </tr>\n",
       "    <tr>\n",
       "      <th>2</th>\n",
       "      <td>6.012677</td>\n",
       "    </tr>\n",
       "    <tr>\n",
       "      <th>3</th>\n",
       "      <td>14.710712</td>\n",
       "    </tr>\n",
       "    <tr>\n",
       "      <th>4</th>\n",
       "      <td>5.501903</td>\n",
       "    </tr>\n",
       "  </tbody>\n",
       "</table>\n",
       "</div>"
      ],
      "text/plain": [
       "       Sales\n",
       "0  -8.231543\n",
       "1  59.464963\n",
       "2   6.012677\n",
       "3  14.710712\n",
       "4   5.501903"
      ]
     },
     "execution_count": 25,
     "metadata": {},
     "output_type": "execute_result"
    }
   ],
   "source": [
    "y_pred_test = linreg.predict(X_test)    \n",
    "pred_test= pd.DataFrame(y_pred_test)\n",
    "\n",
    "pred_test.columns=['Sales']\n",
    "pred_test.head()\n"
   ]
  },
  {
   "cell_type": "markdown",
   "metadata": {},
   "source": [
    "### Evaluate the model using Mean Absolute Error metrics for both train and test."
   ]
  },
  {
   "cell_type": "code",
   "execution_count": 26,
   "metadata": {},
   "outputs": [
    {
     "name": "stdout",
     "output_type": "stream",
     "text": [
      "MAE for training set is 25.192898740260027\n",
      "MAE for test set is 36.78483978918261\n"
     ]
    }
   ],
   "source": [
    "from sklearn import metrics\n",
    "\n",
    "MAE_train = metrics.mean_absolute_error(y_train, y_pred_train)\n",
    "MAE_test = metrics.mean_absolute_error(y_test, y_pred_test)\n",
    "print('MAE for training set is {}'.format(MAE_train))\n",
    "print('MAE for test set is {}'.format(MAE_test))\n"
   ]
  },
  {
   "cell_type": "markdown",
   "metadata": {},
   "source": [
    "### Evaluate the model using Mean Squared Error for both train and test."
   ]
  },
  {
   "cell_type": "code",
   "execution_count": 27,
   "metadata": {},
   "outputs": [
    {
     "name": "stdout",
     "output_type": "stream",
     "text": [
      "MSE for training set is 1255.0790076887558\n",
      "MSE for test set is 3153.9914202414557\n"
     ]
    }
   ],
   "source": [
    "\n",
    "MSE_train = metrics.mean_squared_error(y_train, y_pred_train)\n",
    "MSE_test = metrics.mean_squared_error(y_test, y_pred_test)\n",
    "print('MSE for training set is {}'.format(MSE_train))\n",
    "print('MSE for test set is {}'.format(MSE_test))\n"
   ]
  },
  {
   "cell_type": "markdown",
   "metadata": {},
   "source": [
    "### Evaluate the model using Root Mean Squared Error for both train and test."
   ]
  },
  {
   "cell_type": "code",
   "execution_count": 28,
   "metadata": {},
   "outputs": [
    {
     "name": "stdout",
     "output_type": "stream",
     "text": [
      "RMSE for training set is 35.42709425974357\n",
      "RMSE for test set is 56.160407942263525\n"
     ]
    }
   ],
   "source": [
    "import numpy as np\n",
    "\n",
    "RMSE_train = np.sqrt( metrics.mean_squared_error(y_train, y_pred_train))\n",
    "RMSE_test = np.sqrt(metrics.mean_squared_error(y_test, y_pred_test))\n",
    "print('RMSE for training set is {}'.format(RMSE_train))\n",
    "print('RMSE for test set is {}'.format(RMSE_test))\n"
   ]
  },
  {
   "cell_type": "markdown",
   "metadata": {},
   "source": [
    "### Evaluate the model using R-square value for both train and test."
   ]
  },
  {
   "cell_type": "code",
   "execution_count": 29,
   "metadata": {},
   "outputs": [
    {
     "name": "stdout",
     "output_type": "stream",
     "text": [
      "R2 for training set is 0.2885165699254393\n",
      "R2 for test set is 0.16408126208636586\n"
     ]
    }
   ],
   "source": [
    "from sklearn.metrics import r2_score\n",
    "\n",
    "R2_train = r2_score(y_train, y_pred_train) \n",
    "R2_test = r2_score(y_test, y_pred_test) \n",
    "print('R2 for training set is {}'.format(R2_train))\n",
    "print('R2 for test set is {}'.format(R2_test))\n"
   ]
  },
  {
   "cell_type": "code",
   "execution_count": null,
   "metadata": {},
   "outputs": [],
   "source": []
  }
 ],
 "metadata": {
  "kernelspec": {
   "display_name": "Python 3",
   "language": "python",
   "name": "python3"
  },
  "language_info": {
   "codemirror_mode": {
    "name": "ipython",
    "version": 3
   },
   "file_extension": ".py",
   "mimetype": "text/x-python",
   "name": "python",
   "nbconvert_exporter": "python",
   "pygments_lexer": "ipython3",
   "version": "3.8.3"
  }
 },
 "nbformat": 4,
 "nbformat_minor": 4
}
